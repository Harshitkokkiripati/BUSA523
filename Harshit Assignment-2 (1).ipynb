{
 "cells": [
  {
   "cell_type": "code",
   "execution_count": 18,
   "id": "77a1ffd1",
   "metadata": {},
   "outputs": [
    {
     "name": "stdout",
     "output_type": "stream",
     "text": [
      "326\n"
     ]
    }
   ],
   "source": [
    "import random\n",
    "choices = ['heads','tails']\n",
    "\n",
    "def count_streaks(results):\n",
    "    streaks, current_streak, current_count = 0,results[0],0\n",
    "    for i in range(len(results)):\n",
    "        if results[i]==current_streak:\n",
    "            current_count+=1\n",
    "        else:\n",
    "            if current_count>=5:\n",
    "                streaks+=1\n",
    "            current_streak, current_count = results[i],1\n",
    "    return streaks\n",
    "\n",
    "results = random.choices(choices,k=10000)\n",
    "print(count_streaks(results))\n"
   ]
  },
  {
   "cell_type": "code",
   "execution_count": null,
   "id": "c937db2d",
   "metadata": {},
   "outputs": [],
   "source": [
    "items = ['swords','diamonds','gold coins','rope','potions']\n",
    "inventory = {}\n",
    "\n",
    "for item in items:\n",
    "    inventory[item] = int(input('Enter the number of {}: '.format(item)))\n",
    "\n",
    "for item,cnt in inventory.items():\n",
    "    print(item,cnt)    "
   ]
  },
  {
   "cell_type": "code",
   "execution_count": 15,
   "id": "bd9fb80a",
   "metadata": {},
   "outputs": [
    {
     "name": "stdout",
     "output_type": "stream",
     "text": [
      "311\n"
     ]
    }
   ],
   "source": [
    "import random\n",
    "import numpy as np\n",
    "\n",
    "choices = ['heads','tails']\n",
    "array = np.array(choices)\n",
    "\n",
    "def count_streaks(results):\n",
    "    streaks, current_streak, current_count = 0,results[0],0\n",
    "    for i in range(len(results)):\n",
    "        if results[i]==current_streak:\n",
    "            current_count+=1\n",
    "        else:\n",
    "            if current_count>=5:\n",
    "                streaks+=1\n",
    "            current_streak, current_count = results[i],1 #updating current\n",
    "    return streaks\n",
    "\n",
    "results = random.choices(choices,k=10000)\n",
    "print(count_streaks(results))"
   ]
  },
  {
   "cell_type": "code",
   "execution_count": 19,
   "id": "2ae9a7f6",
   "metadata": {},
   "outputs": [
    {
     "name": "stdout",
     "output_type": "stream",
     "text": [
      "Winner for the following game is Player 1\n"
     ]
    }
   ],
   "source": [
    "import random\n",
    "\n",
    "num_iterations, num_players = 10,3\n",
    "scores = [0]*num_players\n",
    "\n",
    "for i in range(num_iterations):\n",
    "    for player in range(num_players):\n",
    "        scores[player] += random.randint(1,6)\n",
    "\n",
    "winner = max(enumerate(scores), key=lambda scores:scores[1])[0] + 1\n",
    "print('Winner for the following game is Player {}'.format(winner))"
   ]
  },
  {
   "cell_type": "code",
   "execution_count": null,
   "id": "2079f737",
   "metadata": {},
   "outputs": [],
   "source": []
  }
 ],
 "metadata": {
  "kernelspec": {
   "display_name": "Python 3 (ipykernel)",
   "language": "python",
   "name": "python3"
  },
  "language_info": {
   "codemirror_mode": {
    "name": "ipython",
    "version": 3
   },
   "file_extension": ".py",
   "mimetype": "text/x-python",
   "name": "python",
   "nbconvert_exporter": "python",
   "pygments_lexer": "ipython3",
   "version": "3.9.7"
  }
 },
 "nbformat": 4,
 "nbformat_minor": 5
}
