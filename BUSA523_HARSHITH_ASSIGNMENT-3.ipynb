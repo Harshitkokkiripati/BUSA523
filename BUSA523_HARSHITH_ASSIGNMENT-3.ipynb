{
 "cells": [
  {
   "cell_type": "code",
   "execution_count": 11,
   "id": "b19ee21a",
   "metadata": {},
   "outputs": [],
   "source": [
    "\n",
    "class Student:\n",
    "    def init(self,fname,lname,country,grade,credits,major):\n",
    "        self.fname=fname\n",
    "        self.lname=lname\n",
    "        self.country=country\n",
    "        self.grade=float(grade)\n",
    "        self.credits=int(credits)\n",
    "        self.major=major\n",
    "        def progress(self):\n",
    "            if(self.grade>3 and self.credits>20):\n",
    "                print(\"Good\")\n",
    "            elif(self.grade>2.5 or (self.credits>10 and self.credits<20)):\n",
    "                print(\"Average\")\n",
    "            elif(self.grade<2.5):\n",
    "                print(\"Good\")\n",
    "                a=Student(\"Shane\",\"Watson\",\"Australia\",4,27,\"Computer science\")\n",
    "                a.progress()\n",
    "                b=Student(\"Glenn\",\"Maxwell\",\"Australia\",2,10,\"Computer science\")\n",
    "                b.progress()\n",
    "                c=Student(\"Shane\",\"Warne\",\"Australia\",2.6,17,\"Computer science\")\n",
    "                c.progress()"
   ]
  },
  {
   "cell_type": "code",
   "execution_count": 16,
   "id": "3022178c",
   "metadata": {},
   "outputs": [
    {
     "name": "stdout",
     "output_type": "stream",
     "text": [
      "negative_positive_List= ([-6, -3, -2, -8], [5, 1, 9, 3])\n"
     ]
    }
   ],
   "source": [
    "List = [-6, 5, -3, -2, 1, 0, -8, 9, 3]\n",
    "def negative_positive(My_List):\n",
    "    Negative_List = []\n",
    "    Positive_List = []\n",
    "    for j in My_List:\n",
    "        if j < 0:\n",
    "            Negative_List.append(j)\n",
    "            \n",
    "        elif j > 0:\n",
    "            Positive_List.append(j)\n",
    "    return Negative_List, Positive_List\n",
    "    \n",
    "print(\"negative_positive_List=\",negative_positive(List))\n"
   ]
  },
  {
   "cell_type": "code",
   "execution_count": 15,
   "id": "5fd9399a",
   "metadata": {},
   "outputs": [
    {
     "name": "stdout",
     "output_type": "stream",
     "text": [
      "Enter Player's final score = 12\n",
      "All possibilities = [[2, 11], [3, 10], [3, 11], [4, 9], [4, 10], [4, 11], [5, 8], [5, 9], [5, 10], [5, 11], [6, 7], [6, 8], [6, 9], [6, 10], [6, 11], [7, 7], [7, 8], [7, 9], [7, 10], [7, 11], [8, 8], [8, 9], [8, 10], [8, 11], [9, 9], [9, 10], [9, 11], [10, 10], [10, 11]]\n"
     ]
    }
   ],
   "source": [
    "# all_possibilities() function which takes number final scores of player.\n",
    "# and return list of list with two elements.\n",
    "# each sum of two elements is greater than final score number and  less than 22.\n",
    "def all_possibilities(number):\n",
    "    # empty list two store result.\n",
    "    ans = []\n",
    "    # for each i from 1 to 11.\n",
    "    for i in range(1, 12):\n",
    "        # for each j from i to 11.\n",
    "        for j in range(i, 12):\n",
    "            # if sum of i and j is between number and 22 exclusively.\n",
    "            if(number < i+j and i+j < 22):\n",
    "                # append list[i, j] to ans.\n",
    "                ans.append([i, j])\n",
    "\n",
    "    # print ans list.\n",
    "    print(\"All possibilities =\", ans)\n",
    "\n",
    "\n",
    "# asking for input final score.\n",
    "n = int(input(\"Enter Player's final score = \"))\n",
    "\n",
    "# all_possibilities() calling\n",
    "all_possibilities(n)"
   ]
  },
  {
   "cell_type": "code",
   "execution_count": null,
   "id": "dddf887b",
   "metadata": {},
   "outputs": [],
   "source": [
    "%timeit negative_positive(My_List)\n",
    "%timeit all_possibilities(number"
   ]
  }
 ],
 "metadata": {
  "kernelspec": {
   "display_name": "Python 3 (ipykernel)",
   "language": "python",
   "name": "python3"
  },
  "language_info": {
   "codemirror_mode": {
    "name": "ipython",
    "version": 3
   },
   "file_extension": ".py",
   "mimetype": "text/x-python",
   "name": "python",
   "nbconvert_exporter": "python",
   "pygments_lexer": "ipython3",
   "version": "3.9.7"
  }
 },
 "nbformat": 4,
 "nbformat_minor": 5
}
